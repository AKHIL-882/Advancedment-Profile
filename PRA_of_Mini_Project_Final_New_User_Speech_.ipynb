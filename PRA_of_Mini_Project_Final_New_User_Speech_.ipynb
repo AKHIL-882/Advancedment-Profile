{
  "nbformat": 4,
  "nbformat_minor": 0,
  "metadata": {
    "accelerator": "GPU",
    "colab": {
      "name": "Copy of Mini Project Final_New-User Speech .ipynb",
      "provenance": [],
      "collapsed_sections": [],
      "toc_visible": true,
      "include_colab_link": true
    },
    "kernelspec": {
      "display_name": "Python 3",
      "name": "python3"
    },
    "language_info": {
      "name": "python"
    }
  },
  "cells": [
    {
      "cell_type": "markdown",
      "metadata": {
        "id": "view-in-github",
        "colab_type": "text"
      },
      "source": [
        "<a href=\"https://colab.research.google.com/github/AKHIL-882/Advancedment-Profile/blob/main/PRA_of_Mini_Project_Final_New_User_Speech_.ipynb\" target=\"_parent\"><img src=\"https://colab.research.google.com/assets/colab-badge.svg\" alt=\"Open In Colab\"/></a>"
      ]
    },
    {
      "cell_type": "markdown",
      "metadata": {
        "id": "B8l-9viKYXSd"
      },
      "source": [
        "### **1.1 Installing the required libraries**"
      ]
    },
    {
      "cell_type": "code",
      "metadata": {
        "colab": {
          "base_uri": "https://localhost:8080/"
        },
        "id": "vp36yvTewTuH",
        "outputId": "9df79a10-81a6-4714-e6ef-aa532f0c68c9"
      },
      "source": [
        "!sudo apt install tesseract-ocr\n",
        "!pip install pytesseract\n",
        "!pip install gtts"
      ],
      "execution_count": null,
      "outputs": [
        {
          "output_type": "stream",
          "text": [
            "Reading package lists... Done\n",
            "Building dependency tree       \n",
            "Reading state information... Done\n",
            "tesseract-ocr is already the newest version (4.00~git2288-10f4998a-2).\n",
            "The following package was automatically installed and is no longer required:\n",
            "  libnvidia-common-460\n",
            "Use 'sudo apt autoremove' to remove it.\n",
            "0 upgraded, 0 newly installed, 0 to remove and 34 not upgraded.\n",
            "Requirement already satisfied: pytesseract in /usr/local/lib/python3.7/dist-packages (0.3.7)\n",
            "Requirement already satisfied: Pillow in /usr/local/lib/python3.7/dist-packages (from pytesseract) (7.1.2)\n",
            "Requirement already satisfied: gtts in /usr/local/lib/python3.7/dist-packages (2.2.2)\n",
            "Requirement already satisfied: requests in /usr/local/lib/python3.7/dist-packages (from gtts) (2.23.0)\n",
            "Requirement already satisfied: six in /usr/local/lib/python3.7/dist-packages (from gtts) (1.15.0)\n",
            "Requirement already satisfied: click in /usr/local/lib/python3.7/dist-packages (from gtts) (7.1.2)\n",
            "Requirement already satisfied: idna<3,>=2.5 in /usr/local/lib/python3.7/dist-packages (from requests->gtts) (2.10)\n",
            "Requirement already satisfied: urllib3!=1.25.0,!=1.25.1,<1.26,>=1.21.1 in /usr/local/lib/python3.7/dist-packages (from requests->gtts) (1.24.3)\n",
            "Requirement already satisfied: chardet<4,>=3.0.2 in /usr/local/lib/python3.7/dist-packages (from requests->gtts) (3.0.4)\n",
            "Requirement already satisfied: certifi>=2017.4.17 in /usr/local/lib/python3.7/dist-packages (from requests->gtts) (2020.12.5)\n"
          ],
          "name": "stdout"
        }
      ]
    },
    {
      "cell_type": "code",
      "metadata": {
        "id": "-iUsost5WX5c",
        "colab": {
          "base_uri": "https://localhost:8080/",
          "height": 35
        },
        "outputId": "a765895d-3216-430c-f3ff-7a6e60c1a393"
      },
      "source": [
        "pwd"
      ],
      "execution_count": null,
      "outputs": [
        {
          "output_type": "execute_result",
          "data": {
            "application/vnd.google.colaboratory.intrinsic+json": {
              "type": "string"
            },
            "text/plain": [
              "'/content'"
            ]
          },
          "metadata": {
            "tags": []
          },
          "execution_count": 1
        }
      ]
    },
    {
      "cell_type": "markdown",
      "metadata": {
        "id": "OX9MxwwaYjtJ"
      },
      "source": [
        "### **1.2 Importing the required modules**"
      ]
    },
    {
      "cell_type": "code",
      "metadata": {
        "id": "qm9mor4mwRoM"
      },
      "source": [
        "import pytesseract\n",
        "import shutil\n",
        "import os\n",
        "import random\n",
        "try:\n",
        " from PIL import Image\n",
        "except ImportError:\n",
        " import Image"
      ],
      "execution_count": null,
      "outputs": []
    },
    {
      "cell_type": "code",
      "metadata": {
        "colab": {
          "base_uri": "https://localhost:8080/",
          "height": 246
        },
        "id": "BmFCh0QlPS1c",
        "outputId": "424d404d-143b-4bc9-895f-e7204b3b3608"
      },
      "source": [
        "import cv2\n",
        "im_gray = cv2.imread(\"rotate1.jpg\",  cv2.IMREAD_GRAYSCALE)\n",
        "image = cv2.GaussianBlur(im_gray, (5,5), 1)\n",
        "th =  cv2.adaptiveThreshold(image,255,cv2.ADAPTIVE_THRESH_GAUSSIAN_C,cv2.THRESH_BINARY,3,2)"
      ],
      "execution_count": null,
      "outputs": [
        {
          "output_type": "error",
          "ename": "error",
          "evalue": "ignored",
          "traceback": [
            "\u001b[0;31m---------------------------------------------------------------------------\u001b[0m",
            "\u001b[0;31merror\u001b[0m                                     Traceback (most recent call last)",
            "\u001b[0;32m<ipython-input-31-611338ae7bec>\u001b[0m in \u001b[0;36m<module>\u001b[0;34m()\u001b[0m\n\u001b[1;32m      1\u001b[0m \u001b[0;32mimport\u001b[0m \u001b[0mcv2\u001b[0m\u001b[0;34m\u001b[0m\u001b[0;34m\u001b[0m\u001b[0m\n\u001b[1;32m      2\u001b[0m \u001b[0mim_gray\u001b[0m \u001b[0;34m=\u001b[0m \u001b[0mcv2\u001b[0m\u001b[0;34m.\u001b[0m\u001b[0mimread\u001b[0m\u001b[0;34m(\u001b[0m\u001b[0;34m\"1.jpg\"\u001b[0m\u001b[0;34m,\u001b[0m  \u001b[0mcv2\u001b[0m\u001b[0;34m.\u001b[0m\u001b[0mIMREAD_GRAYSCALE\u001b[0m\u001b[0;34m)\u001b[0m\u001b[0;34m\u001b[0m\u001b[0;34m\u001b[0m\u001b[0m\n\u001b[0;32m----> 3\u001b[0;31m \u001b[0mimage\u001b[0m \u001b[0;34m=\u001b[0m \u001b[0mcv2\u001b[0m\u001b[0;34m.\u001b[0m\u001b[0mGaussianBlur\u001b[0m\u001b[0;34m(\u001b[0m\u001b[0mim_gray\u001b[0m\u001b[0;34m,\u001b[0m \u001b[0;34m(\u001b[0m\u001b[0;36m5\u001b[0m\u001b[0;34m,\u001b[0m\u001b[0;36m5\u001b[0m\u001b[0;34m)\u001b[0m\u001b[0;34m,\u001b[0m \u001b[0;36m1\u001b[0m\u001b[0;34m)\u001b[0m\u001b[0;34m\u001b[0m\u001b[0;34m\u001b[0m\u001b[0m\n\u001b[0m\u001b[1;32m      4\u001b[0m \u001b[0mth\u001b[0m \u001b[0;34m=\u001b[0m  \u001b[0mcv2\u001b[0m\u001b[0;34m.\u001b[0m\u001b[0madaptiveThreshold\u001b[0m\u001b[0;34m(\u001b[0m\u001b[0mimage\u001b[0m\u001b[0;34m,\u001b[0m\u001b[0;36m255\u001b[0m\u001b[0;34m,\u001b[0m\u001b[0mcv2\u001b[0m\u001b[0;34m.\u001b[0m\u001b[0mADAPTIVE_THRESH_GAUSSIAN_C\u001b[0m\u001b[0;34m,\u001b[0m\u001b[0mcv2\u001b[0m\u001b[0;34m.\u001b[0m\u001b[0mTHRESH_BINARY\u001b[0m\u001b[0;34m,\u001b[0m\u001b[0;36m3\u001b[0m\u001b[0;34m,\u001b[0m\u001b[0;36m2\u001b[0m\u001b[0;34m)\u001b[0m\u001b[0;34m\u001b[0m\u001b[0;34m\u001b[0m\u001b[0m\n",
            "\u001b[0;31merror\u001b[0m: OpenCV(4.1.2) /io/opencv/modules/core/src/matrix.cpp:757: error: (-215:Assertion failed) dims <= 2 && step[0] > 0 in function 'locateROI'\n"
          ]
        }
      ]
    },
    {
      "cell_type": "code",
      "metadata": {
        "colab": {
          "base_uri": "https://localhost:8080/",
          "height": 229
        },
        "id": "OgW4_aS_Foqj",
        "outputId": "ba61199b-0a84-4423-fb98-ff659501e246"
      },
      "source": [
        "import numpy as np\n",
        "import cv2\n",
        "import math\n",
        "from scipy import ndimage\n",
        "\n",
        "img_before = cv2.imread('9.jpg')\n",
        "\n",
        "#cv2.imshow(\"Before\", img_before)    \n",
        "key = cv2.waitKey(0)\n",
        "\n",
        "img_gray = cv2.cvtColor(img_before, cv2.COLOR_BGR2GRAY)\n",
        "img_edges = cv2.Canny(img_gray, 100, 100, apertureSize=3)\n",
        "lines = cv2.HoughLinesP(img_edges, 1, math.pi / 180.0, 100, minLineLength=100, maxLineGap=5)\n",
        "\n",
        "angles = []\n",
        "\n",
        "for [[x1, y1, x2, y2]] in lines:\n",
        "    cv2.line(img_before, (x1, y1), (x2, y2), (255, 255, 255), 3)\n",
        "    angle = math.degrees(math.atan2(y2 - y1, x2 - x1))\n",
        "    angles.append(angle)\n",
        "\n",
        "#cv2.imshow(\"Detected lines\", img_before)    \n",
        "key = cv2.waitKey(0)\n",
        "\n",
        "median_angle = np.median(angles)\n",
        "img_rotated = ndimage.rotate(img_before, median_angle)\n",
        "\n",
        "print(f\"Angle is {median_angle:.04f}\")\n",
        "ret,thresh1 = cv2.threshold(img_rotated,160,255,cv2.THRESH_BINARY)\n",
        "cv2.imwrite('rotated.jpg', thresh1)  "
      ],
      "execution_count": null,
      "outputs": [
        {
          "output_type": "error",
          "ename": "TypeError",
          "evalue": "ignored",
          "traceback": [
            "\u001b[0;31m---------------------------------------------------------------------------\u001b[0m",
            "\u001b[0;31mTypeError\u001b[0m                                 Traceback (most recent call last)",
            "\u001b[0;32m<ipython-input-56-40815b846667>\u001b[0m in \u001b[0;36m<module>\u001b[0;34m()\u001b[0m\n\u001b[1;32m     15\u001b[0m \u001b[0mangles\u001b[0m \u001b[0;34m=\u001b[0m \u001b[0;34m[\u001b[0m\u001b[0;34m]\u001b[0m\u001b[0;34m\u001b[0m\u001b[0;34m\u001b[0m\u001b[0m\n\u001b[1;32m     16\u001b[0m \u001b[0;34m\u001b[0m\u001b[0m\n\u001b[0;32m---> 17\u001b[0;31m \u001b[0;32mfor\u001b[0m \u001b[0;34m[\u001b[0m\u001b[0;34m[\u001b[0m\u001b[0mx1\u001b[0m\u001b[0;34m,\u001b[0m \u001b[0my1\u001b[0m\u001b[0;34m,\u001b[0m \u001b[0mx2\u001b[0m\u001b[0;34m,\u001b[0m \u001b[0my2\u001b[0m\u001b[0;34m]\u001b[0m\u001b[0;34m]\u001b[0m \u001b[0;32min\u001b[0m \u001b[0mlines\u001b[0m\u001b[0;34m:\u001b[0m\u001b[0;34m\u001b[0m\u001b[0;34m\u001b[0m\u001b[0m\n\u001b[0m\u001b[1;32m     18\u001b[0m     \u001b[0mcv2\u001b[0m\u001b[0;34m.\u001b[0m\u001b[0mline\u001b[0m\u001b[0;34m(\u001b[0m\u001b[0mimg_before\u001b[0m\u001b[0;34m,\u001b[0m \u001b[0;34m(\u001b[0m\u001b[0mx1\u001b[0m\u001b[0;34m,\u001b[0m \u001b[0my1\u001b[0m\u001b[0;34m)\u001b[0m\u001b[0;34m,\u001b[0m \u001b[0;34m(\u001b[0m\u001b[0mx2\u001b[0m\u001b[0;34m,\u001b[0m \u001b[0my2\u001b[0m\u001b[0;34m)\u001b[0m\u001b[0;34m,\u001b[0m \u001b[0;34m(\u001b[0m\u001b[0;36m255\u001b[0m\u001b[0;34m,\u001b[0m \u001b[0;36m255\u001b[0m\u001b[0;34m,\u001b[0m \u001b[0;36m255\u001b[0m\u001b[0;34m)\u001b[0m\u001b[0;34m,\u001b[0m \u001b[0;36m3\u001b[0m\u001b[0;34m)\u001b[0m\u001b[0;34m\u001b[0m\u001b[0;34m\u001b[0m\u001b[0m\n\u001b[1;32m     19\u001b[0m     \u001b[0mangle\u001b[0m \u001b[0;34m=\u001b[0m \u001b[0mmath\u001b[0m\u001b[0;34m.\u001b[0m\u001b[0mdegrees\u001b[0m\u001b[0;34m(\u001b[0m\u001b[0mmath\u001b[0m\u001b[0;34m.\u001b[0m\u001b[0matan2\u001b[0m\u001b[0;34m(\u001b[0m\u001b[0my2\u001b[0m \u001b[0;34m-\u001b[0m \u001b[0my1\u001b[0m\u001b[0;34m,\u001b[0m \u001b[0mx2\u001b[0m \u001b[0;34m-\u001b[0m \u001b[0mx1\u001b[0m\u001b[0;34m)\u001b[0m\u001b[0;34m)\u001b[0m\u001b[0;34m\u001b[0m\u001b[0;34m\u001b[0m\u001b[0m\n",
            "\u001b[0;31mTypeError\u001b[0m: 'NoneType' object is not iterable"
          ]
        }
      ]
    },
    {
      "cell_type": "markdown",
      "metadata": {
        "id": "FXShc4f5YoNV"
      },
      "source": [
        "### **1.3 Text Detection from Image**"
      ]
    },
    {
      "cell_type": "code",
      "metadata": {
        "colab": {
          "base_uri": "https://localhost:8080/"
        },
        "id": "_pDH9osevqlJ",
        "outputId": "2e1a132d-39f8-4ed1-f015-ea9948632e29"
      },
      "source": [
        "\n",
        "path='rotated.jpg'\n",
        "info_text = pytesseract.image_to_string(Image.open(path))\n",
        "i=pytesseract.image_to_data(Image.open(path))\n",
        "\n",
        "import pandas as pd\n",
        "f = open(\"out.csv\", \"w\")\n",
        "f.write(i)\n",
        "f.close()\n",
        "lines=0\n",
        "f = open(\"out.csv\", \"r\")\n",
        "print(f)\n",
        "for row in open(\"out.csv\"):\n",
        "    lines += 1\n",
        "\n",
        "print(lines)\n",
        "if(lines<20):\n",
        "  print(\"Please turn back the image and recapture the image\")\n",
        "else:\n",
        "  print(info_text)\n"
      ],
      "execution_count": null,
      "outputs": [
        {
          "output_type": "stream",
          "text": [
            "<_io.TextIOWrapper name='out.csv' mode='r' encoding='UTF-8'>\n",
            "69\n",
            "RECEIPT\n",
            "\n",
            "Terminal] 1-02-2018 11a2AM\n",
            "\n",
            "1x T-Shirt $28.\n",
            "‘1x Watches $293.68\n",
            "1x Pants $32.99\n",
            "\n",
            "Vx Socks $6.58\n",
            "\n",
            "TOTAL AMOUNT 9363.99\n",
            "CASH $60.00\n",
            "CHANGE $36.01\n",
            "\n",
            "@ank Card shee meee exe 7\n",
            "Approvaltt wriey\n",
            "\n",
            "semen: THANK YOU! #1 ee ene\n",
            "\n",
            " \n",
            "\f\n"
          ],
          "name": "stdout"
        }
      ]
    },
    {
      "cell_type": "code",
      "metadata": {
        "id": "NCHxMGugdhsY"
      },
      "source": [
        "\n",
        "f = open(\"recipt_text.txt\", \"w\")\n",
        "f.write(info_text)\n",
        "f.close()\n"
      ],
      "execution_count": null,
      "outputs": []
    },
    {
      "cell_type": "markdown",
      "metadata": {
        "id": "LMl0T4unYw-V"
      },
      "source": [
        "### **1.4 Converting the text into array**"
      ]
    },
    {
      "cell_type": "code",
      "metadata": {
        "colab": {
          "base_uri": "https://localhost:8080/"
        },
        "id": "lmLAFbEVM-24",
        "outputId": "7068398f-4920-4686-ad00-9373c9e734c4"
      },
      "source": [
        "recipt_text = info_text.split()\n",
        "recipt_text"
      ],
      "execution_count": null,
      "outputs": [
        {
          "output_type": "execute_result",
          "data": {
            "text/plain": [
              "['ORDER', 'NO:', '18', 'UPSTAIRS', 'ANT']"
            ]
          },
          "metadata": {
            "tags": []
          },
          "execution_count": 13
        }
      ]
    },
    {
      "cell_type": "markdown",
      "metadata": {
        "id": "yheoxFzVY40w"
      },
      "source": [
        "### **1.5 Converting the text into lowercase**"
      ]
    },
    {
      "cell_type": "code",
      "metadata": {
        "colab": {
          "base_uri": "https://localhost:8080/"
        },
        "id": "TyRNM4ZiXx0Z",
        "outputId": "9fef74bf-1957-46bd-9847-d9a8c9209bdb"
      },
      "source": [
        "for i in range(len(recipt_text)):\n",
        "   recipt_text[i] = recipt_text[i].lower()\n",
        "print(recipt_text)"
      ],
      "execution_count": null,
      "outputs": [
        {
          "output_type": "stream",
          "text": [
            "['madina', 'dest', 'curry', 'co.', 'adnan', 'reg', 'madina', '1', 'tuesday', '26', 'july', '2017', '18:21', '231862', 'upstairs', 'y', '1', 'chicken', 'biryani', '4.95', '1', 'masala', 'bosa', '4.95,', '1', 'uttapham', '4.95,', 'subtotal', '14.85', 'no', 'total', '€14.85', 'cash', '14,85', '‘a-new', 'generation', 'of', 'asian', 'fusion', 'fast-food', 'restaurants', 'thank', 'you', 'for', 'your', 'custom']\n"
          ],
          "name": "stdout"
        }
      ]
    },
    {
      "cell_type": "markdown",
      "metadata": {
        "id": "lpyxa5uraDUM"
      },
      "source": [
        "### **1.6 User Speech as Input**"
      ]
    },
    {
      "cell_type": "code",
      "metadata": {
        "colab": {
          "base_uri": "https://localhost:8080/",
          "height": 363
        },
        "id": "fbQ6niaCbQ-Y",
        "outputId": "2f955175-aa89-4d5e-d9fa-b15d7d376a5c"
      },
      "source": [
        "from speech_recognition import Microphone, Recognizer, AudioFile\n",
        "\n",
        "rec = Recognizer()\n",
        "mic = Microphone()\n",
        "\n",
        "with mic:\n",
        "    print(\"Talk Now\")\n",
        "    audio = rec.record(mic, 5)\n",
        "\n",
        "recognized = rec.recognize_google(audio)\n",
        "print(\"You said : \", recognized)"
      ],
      "execution_count": null,
      "outputs": [
        {
          "output_type": "error",
          "ename": "ModuleNotFoundError",
          "evalue": "ignored",
          "traceback": [
            "\u001b[0;31m---------------------------------------------------------------------------\u001b[0m",
            "\u001b[0;31mModuleNotFoundError\u001b[0m                       Traceback (most recent call last)",
            "\u001b[0;32m<ipython-input-9-bd48a7abbcce>\u001b[0m in \u001b[0;36m<module>\u001b[0;34m()\u001b[0m\n\u001b[0;32m----> 1\u001b[0;31m \u001b[0;32mfrom\u001b[0m \u001b[0mspeech_recognition\u001b[0m \u001b[0;32mimport\u001b[0m \u001b[0mMicrophone\u001b[0m\u001b[0;34m,\u001b[0m \u001b[0mRecognizer\u001b[0m\u001b[0;34m,\u001b[0m \u001b[0mAudioFile\u001b[0m\u001b[0;34m\u001b[0m\u001b[0;34m\u001b[0m\u001b[0m\n\u001b[0m\u001b[1;32m      2\u001b[0m \u001b[0;34m\u001b[0m\u001b[0m\n\u001b[1;32m      3\u001b[0m \u001b[0mrec\u001b[0m \u001b[0;34m=\u001b[0m \u001b[0mRecognizer\u001b[0m\u001b[0;34m(\u001b[0m\u001b[0;34m)\u001b[0m\u001b[0;34m\u001b[0m\u001b[0;34m\u001b[0m\u001b[0m\n\u001b[1;32m      4\u001b[0m \u001b[0mmic\u001b[0m \u001b[0;34m=\u001b[0m \u001b[0mMicrophone\u001b[0m\u001b[0;34m(\u001b[0m\u001b[0;34m)\u001b[0m\u001b[0;34m\u001b[0m\u001b[0;34m\u001b[0m\u001b[0m\n\u001b[1;32m      5\u001b[0m \u001b[0;34m\u001b[0m\u001b[0m\n",
            "\u001b[0;31mModuleNotFoundError\u001b[0m: No module named 'speech_recognition'",
            "",
            "\u001b[0;31m---------------------------------------------------------------------------\u001b[0;32m\nNOTE: If your import is failing due to a missing package, you can\nmanually install dependencies using either !pip or !apt.\n\nTo view examples of installing some common dependencies, click the\n\"Open Examples\" button below.\n\u001b[0;31m---------------------------------------------------------------------------\u001b[0m\n"
          ]
        }
      ]
    },
    {
      "cell_type": "markdown",
      "metadata": {
        "id": "ulS4vlgraMjE"
      },
      "source": [
        "### **1.7 Optial case**\n",
        "As speech is not working in colab,I am taking the string as input.\n",
        "\n",
        "**Remove this optial section when using in pycharm**"
      ]
    },
    {
      "cell_type": "code",
      "metadata": {
        "id": "eqgHI6-aaLPv"
      },
      "source": [
        " #I have took a dummy speech\"\n",
        "recognized = \"Please! tell cost of UTTAPHAM \""
      ],
      "execution_count": null,
      "outputs": []
    },
    {
      "cell_type": "code",
      "metadata": {
        "colab": {
          "base_uri": "https://localhost:8080/"
        },
        "id": "UUyCU29QCUrC",
        "outputId": "d0a07ba2-24ee-4eea-8cf4-37b00406179d"
      },
      "source": [
        "\n",
        "def Convert(string):\n",
        "\tli = list(string.split(\" \"))\n",
        "\treturn li\n",
        "\n",
        "li = Convert(recognized)\n",
        "print(li)\n"
      ],
      "execution_count": null,
      "outputs": [
        {
          "output_type": "stream",
          "text": [
            "['Please!', 'tell', 'cost', 'of', 'UTTAPHAM', '']\n"
          ],
          "name": "stdout"
        }
      ]
    },
    {
      "cell_type": "code",
      "metadata": {
        "colab": {
          "base_uri": "https://localhost:8080/"
        },
        "id": "rxBNj70fC2aZ",
        "outputId": "b9d19d7f-fa69-413a-8455-ef134705f5a3"
      },
      "source": [
        "\n",
        "articles = {'a','of','only','for','an'}\n",
        "\n",
        "li = [ele for ele in li if ele not in articles]\n",
        "print(li)\n"
      ],
      "execution_count": null,
      "outputs": [
        {
          "output_type": "stream",
          "text": [
            "['Please!', 'tell', 'cost', 'UTTAPHAM', '']\n"
          ],
          "name": "stdout"
        }
      ]
    },
    {
      "cell_type": "markdown",
      "metadata": {
        "id": "B9JU-Maiakyu"
      },
      "source": [
        "### **1.8 Converting Speech into token of array values**"
      ]
    },
    {
      "cell_type": "code",
      "metadata": {
        "colab": {
          "base_uri": "https://localhost:8080/"
        },
        "id": "OWOxD5GuDsGF",
        "outputId": "dc49204a-c20d-41b4-b3c0-2aa55687ed46"
      },
      "source": [
        "import numpy as np\n",
        "recognized_text = np.asarray(li)\n",
        "\n",
        "for i in range(len(li)):\n",
        "   recognized_text[i] = recognized_text[i].lower()\n",
        "\n",
        "\n",
        "print(recognized_text)\n",
        "print(type(recognized_text))\n"
      ],
      "execution_count": null,
      "outputs": [
        {
          "output_type": "stream",
          "text": [
            "['please!' 'tell' 'cost' 'uttapham' '']\n",
            "<class 'numpy.ndarray'>\n"
          ],
          "name": "stdout"
        }
      ]
    },
    {
      "cell_type": "markdown",
      "metadata": {
        "id": "w2UZnsUyavtl"
      },
      "source": [
        "### **1.9 User Speech mapping**"
      ]
    },
    {
      "cell_type": "code",
      "metadata": {
        "colab": {
          "base_uri": "https://localhost:8080/"
        },
        "id": "8SYqwNwgaLKd",
        "outputId": "10ab53e9-d037-4902-e799-982b00811f2d"
      },
      "source": [
        "\n",
        "\n",
        "\n",
        "#program to print date\n",
        "for j in range(len(recognized_text)):\n",
        "  if(recognized_text[j] == 'date'):\n",
        "      import re\n",
        "      f = open(\"recipt_text.txt\", \"r\")\n",
        "      content = f.read()\n",
        "      pattern = \"\\d{2}[/-]\\d{2}[/-]\\d{4}\"\n",
        "      dates = re.findall(pattern, content)\n",
        "      for date in dates:\n",
        "          if \"-\" in date:\n",
        "              day, month, year = map(int, date.split(\"-\"))\n",
        "          else:\n",
        "              day, month, year = map(int, date.split(\"/\"))\n",
        "          if 1 <= day <= 31 and 1 <= month <= 12:\n",
        "              print(date)\n",
        "              text_val = date\n",
        "      f.close()\n",
        "\n",
        "\n",
        "#program to print time\n",
        "for j in range(len(recognized_text)):\n",
        "  if(recognized_text[j] == 'time'):\n",
        "    regex = re.compile(r'\\d{2}:\\d{2}')\n",
        "    with open('recipt_text.txt') as f:\n",
        "      # text_val = regex.findall(f.read())\n",
        "      # print(text_val)\n",
        "      def listToString(s):\n",
        "        str1 = \"\"\n",
        "        for ele in s: \n",
        "          str1 += ele\n",
        "        return str1\n",
        "      text_val =listToString(text_val)\n",
        "      print(text_val) \n",
        "         \n",
        "\n",
        "\n",
        "\n",
        "import re\n",
        "count=0\n",
        "for i in range(0, len(recipt_text)):\n",
        "  for j in range(0, len(recognized_text)):\n",
        "     if(recognized_text[j] == recipt_text[i]):\n",
        "       count+=1\n",
        "       n=count\n",
        "\n",
        "if(count == n):\n",
        "  for i in range(0, len(recipt_text)):\n",
        "    for j in range(0, len(recognized_text)):\n",
        "      if(recognized_text[j] == recipt_text[i]):\n",
        "        val = recipt_text[i]\n",
        "\n",
        "\n",
        "for i in range(0, len(recipt_text)):\n",
        "  for j in range(0, len(recognized_text)):\n",
        "     if(recipt_text[i] == val):\n",
        "       inval = i\n",
        "       for i in range(inval,len(recipt_text)):\n",
        "         if(recipt_text[i].isalpha()):\n",
        "           inval+=1\n",
        "         else:\n",
        "           print(recipt_text[inval])\n",
        "           text_val = recipt_text[inval]\n",
        "           break\n"
      ],
      "execution_count": null,
      "outputs": [
        {
          "output_type": "stream",
          "text": [
            "4.95,\n"
          ],
          "name": "stdout"
        }
      ]
    },
    {
      "cell_type": "markdown",
      "metadata": {
        "id": "Jobdygf4cFUG"
      },
      "source": [
        "### **2.0 Copying the output into a file**"
      ]
    },
    {
      "cell_type": "code",
      "metadata": {
        "id": "wC_gXYYsaLHL",
        "colab": {
          "base_uri": "https://localhost:8080/"
        },
        "outputId": "85418250-188c-4e91-d103-e3e93d57cba2"
      },
      "source": [
        "\n",
        "f = open(\"text.txt\", \"w\")\n",
        "f.write(text_val)\n",
        "f.close()\n",
        "\n",
        "f = open(\"text.txt\", \"r\")\n",
        "print(f.read())\n"
      ],
      "execution_count": null,
      "outputs": [
        {
          "output_type": "stream",
          "text": [
            "4.95,\n"
          ],
          "name": "stdout"
        }
      ]
    },
    {
      "cell_type": "markdown",
      "metadata": {
        "id": "1Qh7WdpFcUUZ"
      },
      "source": [
        "### **2.1 Converting to audio**"
      ]
    },
    {
      "cell_type": "code",
      "metadata": {
        "id": "QeUsHlPXaLFf",
        "colab": {
          "base_uri": "https://localhost:8080/",
          "height": 363
        },
        "outputId": "f1e13b32-cec7-491e-b940-a171a59d035b"
      },
      "source": [
        "from gtts import gTTS\n",
        "\n",
        "import os\n",
        "\n",
        "f=open('text.txt')\n",
        "x=f.read()\n",
        "\n",
        "language='en'\n",
        "\n",
        "audio=gTTS(text=x,lang=language,slow=False)\n",
        "\n",
        "audio.save(\"1.wav\")\n",
        "os.system(\"1.wav\")"
      ],
      "execution_count": null,
      "outputs": [
        {
          "output_type": "error",
          "ename": "AssertionError",
          "evalue": "ignored",
          "traceback": [
            "\u001b[0;31m---------------------------------------------------------------------------\u001b[0m",
            "\u001b[0;31mAssertionError\u001b[0m                            Traceback (most recent call last)",
            "\u001b[0;32m<ipython-input-40-34574d879ac6>\u001b[0m in \u001b[0;36m<module>\u001b[0;34m()\u001b[0m\n\u001b[1;32m      8\u001b[0m \u001b[0mlanguage\u001b[0m\u001b[0;34m=\u001b[0m\u001b[0;34m'en'\u001b[0m\u001b[0;34m\u001b[0m\u001b[0;34m\u001b[0m\u001b[0m\n\u001b[1;32m      9\u001b[0m \u001b[0;34m\u001b[0m\u001b[0m\n\u001b[0;32m---> 10\u001b[0;31m \u001b[0maudio\u001b[0m\u001b[0;34m=\u001b[0m\u001b[0mgTTS\u001b[0m\u001b[0;34m(\u001b[0m\u001b[0mtext\u001b[0m\u001b[0;34m=\u001b[0m\u001b[0mx\u001b[0m\u001b[0;34m,\u001b[0m\u001b[0mlang\u001b[0m\u001b[0;34m=\u001b[0m\u001b[0mlanguage\u001b[0m\u001b[0;34m,\u001b[0m\u001b[0mslow\u001b[0m\u001b[0;34m=\u001b[0m\u001b[0;32mFalse\u001b[0m\u001b[0;34m)\u001b[0m\u001b[0;34m\u001b[0m\u001b[0;34m\u001b[0m\u001b[0m\n\u001b[0m\u001b[1;32m     11\u001b[0m \u001b[0;34m\u001b[0m\u001b[0m\n\u001b[1;32m     12\u001b[0m \u001b[0maudio\u001b[0m\u001b[0;34m.\u001b[0m\u001b[0msave\u001b[0m\u001b[0;34m(\u001b[0m\u001b[0;34m\"1.wav\"\u001b[0m\u001b[0;34m)\u001b[0m\u001b[0;34m\u001b[0m\u001b[0;34m\u001b[0m\u001b[0m\n",
            "\u001b[0;32m/usr/local/lib/python3.7/dist-packages/gtts/tts.py\u001b[0m in \u001b[0;36m__init__\u001b[0;34m(self, text, tld, lang, slow, lang_check, pre_processor_funcs, tokenizer_func)\u001b[0m\n\u001b[1;32m    128\u001b[0m \u001b[0;34m\u001b[0m\u001b[0m\n\u001b[1;32m    129\u001b[0m         \u001b[0;31m# Text\u001b[0m\u001b[0;34m\u001b[0m\u001b[0;34m\u001b[0m\u001b[0;34m\u001b[0m\u001b[0m\n\u001b[0;32m--> 130\u001b[0;31m         \u001b[0;32massert\u001b[0m \u001b[0mtext\u001b[0m\u001b[0;34m,\u001b[0m \u001b[0;34m'No text to speak'\u001b[0m\u001b[0;34m\u001b[0m\u001b[0;34m\u001b[0m\u001b[0m\n\u001b[0m\u001b[1;32m    131\u001b[0m         \u001b[0mself\u001b[0m\u001b[0;34m.\u001b[0m\u001b[0mtext\u001b[0m \u001b[0;34m=\u001b[0m \u001b[0mtext\u001b[0m\u001b[0;34m\u001b[0m\u001b[0;34m\u001b[0m\u001b[0m\n\u001b[1;32m    132\u001b[0m \u001b[0;34m\u001b[0m\u001b[0m\n",
            "\u001b[0;31mAssertionError\u001b[0m: No text to speak"
          ]
        }
      ]
    },
    {
      "cell_type": "markdown",
      "metadata": {
        "id": "T_3Okad7cjkk"
      },
      "source": [
        "## **The End**"
      ]
    },
    {
      "cell_type": "code",
      "metadata": {
        "id": "IAAX7W9-jqsQ"
      },
      "source": [
        ""
      ],
      "execution_count": null,
      "outputs": []
    }
  ]
}